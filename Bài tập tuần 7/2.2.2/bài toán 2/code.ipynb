{
 "cells": [
  {
   "cell_type": "markdown",
   "id": "779b2c3b",
   "metadata": {},
   "source": [
    "# Bài toán 2: Xây dựng mô hình dựa vào giải thuật SVM trên dữ liệu hình ảnh Handwritten-Digit-MNIST SVM. Dữ liệu lấy từ \n",
    "https://www.kaggle.com/code/nishan192/mnist-digit-recognition-using-svm "
   ]
  },
  {
   "cell_type": "markdown",
   "id": "09a83dcc",
   "metadata": {},
   "source": [
    "## Nhiệm vụ 1: Tìm hiểu về cách biểu diễn và hiển thị các ảnh từ tập dữ liệu là hình ảnh"
   ]
  },
  {
   "cell_type": "markdown",
   "id": "21f263fe",
   "metadata": {},
   "source": [
    "1. Import thư viện và tải dữ liệu là tập các hình ảnh viết tay từ số 0 đến số 9\n"
   ]
  },
  {
   "cell_type": "code",
   "execution_count": 2,
   "id": "ad5c411f",
   "metadata": {},
   "outputs": [],
   "source": [
    "import pandas as pd \n",
    "import numpy as np \n",
    "import matplotlib as mpl \n",
    "import matplotlib.pyplot as plt \n",
    " \n",
    "from sklearn.datasets import load_digits \n",
    "digits = load_digits(n_class=10)"
   ]
  },
  {
   "cell_type": "markdown",
   "id": "6fbc7c82",
   "metadata": {},
   "source": [
    "2. Khảo sát thông tin có trong digits"
   ]
  },
  {
   "cell_type": "code",
   "execution_count": 3,
   "id": "1b080879",
   "metadata": {},
   "outputs": [
    {
     "data": {
      "text/plain": [
       "{'data': array([[ 0.,  0.,  5., ...,  0.,  0.,  0.],\n",
       "        [ 0.,  0.,  0., ..., 10.,  0.,  0.],\n",
       "        [ 0.,  0.,  0., ..., 16.,  9.,  0.],\n",
       "        ...,\n",
       "        [ 0.,  0.,  1., ...,  6.,  0.,  0.],\n",
       "        [ 0.,  0.,  2., ..., 12.,  0.,  0.],\n",
       "        [ 0.,  0., 10., ..., 12.,  1.,  0.]]),\n",
       " 'target': array([0, 1, 2, ..., 8, 9, 8]),\n",
       " 'frame': None,\n",
       " 'feature_names': ['pixel_0_0',\n",
       "  'pixel_0_1',\n",
       "  'pixel_0_2',\n",
       "  'pixel_0_3',\n",
       "  'pixel_0_4',\n",
       "  'pixel_0_5',\n",
       "  'pixel_0_6',\n",
       "  'pixel_0_7',\n",
       "  'pixel_1_0',\n",
       "  'pixel_1_1',\n",
       "  'pixel_1_2',\n",
       "  'pixel_1_3',\n",
       "  'pixel_1_4',\n",
       "  'pixel_1_5',\n",
       "  'pixel_1_6',\n",
       "  'pixel_1_7',\n",
       "  'pixel_2_0',\n",
       "  'pixel_2_1',\n",
       "  'pixel_2_2',\n",
       "  'pixel_2_3',\n",
       "  'pixel_2_4',\n",
       "  'pixel_2_5',\n",
       "  'pixel_2_6',\n",
       "  'pixel_2_7',\n",
       "  'pixel_3_0',\n",
       "  'pixel_3_1',\n",
       "  'pixel_3_2',\n",
       "  'pixel_3_3',\n",
       "  'pixel_3_4',\n",
       "  'pixel_3_5',\n",
       "  'pixel_3_6',\n",
       "  'pixel_3_7',\n",
       "  'pixel_4_0',\n",
       "  'pixel_4_1',\n",
       "  'pixel_4_2',\n",
       "  'pixel_4_3',\n",
       "  'pixel_4_4',\n",
       "  'pixel_4_5',\n",
       "  'pixel_4_6',\n",
       "  'pixel_4_7',\n",
       "  'pixel_5_0',\n",
       "  'pixel_5_1',\n",
       "  'pixel_5_2',\n",
       "  'pixel_5_3',\n",
       "  'pixel_5_4',\n",
       "  'pixel_5_5',\n",
       "  'pixel_5_6',\n",
       "  'pixel_5_7',\n",
       "  'pixel_6_0',\n",
       "  'pixel_6_1',\n",
       "  'pixel_6_2',\n",
       "  'pixel_6_3',\n",
       "  'pixel_6_4',\n",
       "  'pixel_6_5',\n",
       "  'pixel_6_6',\n",
       "  'pixel_6_7',\n",
       "  'pixel_7_0',\n",
       "  'pixel_7_1',\n",
       "  'pixel_7_2',\n",
       "  'pixel_7_3',\n",
       "  'pixel_7_4',\n",
       "  'pixel_7_5',\n",
       "  'pixel_7_6',\n",
       "  'pixel_7_7'],\n",
       " 'target_names': array([0, 1, 2, 3, 4, 5, 6, 7, 8, 9]),\n",
       " 'images': array([[[ 0.,  0.,  5., ...,  1.,  0.,  0.],\n",
       "         [ 0.,  0., 13., ..., 15.,  5.,  0.],\n",
       "         [ 0.,  3., 15., ..., 11.,  8.,  0.],\n",
       "         ...,\n",
       "         [ 0.,  4., 11., ..., 12.,  7.,  0.],\n",
       "         [ 0.,  2., 14., ..., 12.,  0.,  0.],\n",
       "         [ 0.,  0.,  6., ...,  0.,  0.,  0.]],\n",
       " \n",
       "        [[ 0.,  0.,  0., ...,  5.,  0.,  0.],\n",
       "         [ 0.,  0.,  0., ...,  9.,  0.,  0.],\n",
       "         [ 0.,  0.,  3., ...,  6.,  0.,  0.],\n",
       "         ...,\n",
       "         [ 0.,  0.,  1., ...,  6.,  0.,  0.],\n",
       "         [ 0.,  0.,  1., ...,  6.,  0.,  0.],\n",
       "         [ 0.,  0.,  0., ..., 10.,  0.,  0.]],\n",
       " \n",
       "        [[ 0.,  0.,  0., ..., 12.,  0.,  0.],\n",
       "         [ 0.,  0.,  3., ..., 14.,  0.,  0.],\n",
       "         [ 0.,  0.,  8., ..., 16.,  0.,  0.],\n",
       "         ...,\n",
       "         [ 0.,  9., 16., ...,  0.,  0.,  0.],\n",
       "         [ 0.,  3., 13., ..., 11.,  5.,  0.],\n",
       "         [ 0.,  0.,  0., ..., 16.,  9.,  0.]],\n",
       " \n",
       "        ...,\n",
       " \n",
       "        [[ 0.,  0.,  1., ...,  1.,  0.,  0.],\n",
       "         [ 0.,  0., 13., ...,  2.,  1.,  0.],\n",
       "         [ 0.,  0., 16., ..., 16.,  5.,  0.],\n",
       "         ...,\n",
       "         [ 0.,  0., 16., ..., 15.,  0.,  0.],\n",
       "         [ 0.,  0., 15., ..., 16.,  0.,  0.],\n",
       "         [ 0.,  0.,  2., ...,  6.,  0.,  0.]],\n",
       " \n",
       "        [[ 0.,  0.,  2., ...,  0.,  0.,  0.],\n",
       "         [ 0.,  0., 14., ..., 15.,  1.,  0.],\n",
       "         [ 0.,  4., 16., ..., 16.,  7.,  0.],\n",
       "         ...,\n",
       "         [ 0.,  0.,  0., ..., 16.,  2.,  0.],\n",
       "         [ 0.,  0.,  4., ..., 16.,  2.,  0.],\n",
       "         [ 0.,  0.,  5., ..., 12.,  0.,  0.]],\n",
       " \n",
       "        [[ 0.,  0., 10., ...,  1.,  0.,  0.],\n",
       "         [ 0.,  2., 16., ...,  1.,  0.,  0.],\n",
       "         [ 0.,  0., 15., ..., 15.,  0.,  0.],\n",
       "         ...,\n",
       "         [ 0.,  4., 16., ..., 16.,  6.,  0.],\n",
       "         [ 0.,  8., 16., ..., 16.,  8.,  0.],\n",
       "         [ 0.,  1.,  8., ..., 12.,  1.,  0.]]]),\n",
       " 'DESCR': \".. _digits_dataset:\\n\\nOptical recognition of handwritten digits dataset\\n--------------------------------------------------\\n\\n**Data Set Characteristics:**\\n\\n:Number of Instances: 1797\\n:Number of Attributes: 64\\n:Attribute Information: 8x8 image of integer pixels in the range 0..16.\\n:Missing Attribute Values: None\\n:Creator: E. Alpaydin (alpaydin '@' boun.edu.tr)\\n:Date: July; 1998\\n\\nThis is a copy of the test set of the UCI ML hand-written digits datasets\\nhttps://archive.ics.uci.edu/ml/datasets/Optical+Recognition+of+Handwritten+Digits\\n\\nThe data set contains images of hand-written digits: 10 classes where\\neach class refers to a digit.\\n\\nPreprocessing programs made available by NIST were used to extract\\nnormalized bitmaps of handwritten digits from a preprinted form. From a\\ntotal of 43 people, 30 contributed to the training set and different 13\\nto the test set. 32x32 bitmaps are divided into nonoverlapping blocks of\\n4x4 and the number of on pixels are counted in each block. This generates\\nan input matrix of 8x8 where each element is an integer in the range\\n0..16. This reduces dimensionality and gives invariance to small\\ndistortions.\\n\\nFor info on NIST preprocessing routines, see M. D. Garris, J. L. Blue, G.\\nT. Candela, D. L. Dimmick, J. Geist, P. J. Grother, S. A. Janet, and C.\\nL. Wilson, NIST Form-Based Handprint Recognition System, NISTIR 5469,\\n1994.\\n\\n.. dropdown:: References\\n\\n  - C. Kaynak (1995) Methods of Combining Multiple Classifiers and Their\\n    Applications to Handwritten Digit Recognition, MSc Thesis, Institute of\\n    Graduate Studies in Science and Engineering, Bogazici University.\\n  - E. Alpaydin, C. Kaynak (1998) Cascading Classifiers, Kybernetika.\\n  - Ken Tang and Ponnuthurai N. Suganthan and Xi Yao and A. Kai Qin.\\n    Linear dimensionalityreduction using relevance weighted LDA. School of\\n    Electrical and Electronic Engineering Nanyang Technological University.\\n    2005.\\n  - Claudio Gentile. A New Approximate Maximal Margin Classification\\n    Algorithm. NIPS. 2000.\\n\"}"
      ]
     },
     "execution_count": 3,
     "metadata": {},
     "output_type": "execute_result"
    }
   ],
   "source": [
    "#thông tin toàn bộ dữ liệu đã tải về \n",
    "digits "
   ]
  },
  {
   "cell_type": "code",
   "execution_count": 4,
   "id": "a2fe7e45",
   "metadata": {},
   "outputs": [
    {
     "data": {
      "text/plain": [
       "array([[ 0.,  0.,  5., 13.,  9.,  1.,  0.,  0.],\n",
       "       [ 0.,  0., 13., 15., 10., 15.,  5.,  0.],\n",
       "       [ 0.,  3., 15.,  2.,  0., 11.,  8.,  0.],\n",
       "       [ 0.,  4., 12.,  0.,  0.,  8.,  8.,  0.],\n",
       "       [ 0.,  5.,  8.,  0.,  0.,  9.,  8.,  0.],\n",
       "       [ 0.,  4., 11.,  0.,  1., 12.,  7.,  0.],\n",
       "       [ 0.,  2., 14.,  5., 10., 12.,  0.,  0.],\n",
       "       [ 0.,  0.,  6., 13., 10.,  0.,  0.,  0.]])"
      ]
     },
     "execution_count": 4,
     "metadata": {},
     "output_type": "execute_result"
    }
   ],
   "source": [
    "#xem thông tin của một hình dưới dạng ma trận 8 x 8 \n",
    "digits['data'][0].reshape(8,8)\n"
   ]
  },
  {
   "cell_type": "code",
   "execution_count": 5,
   "id": "01390d75",
   "metadata": {},
   "outputs": [
    {
     "data": {
      "text/plain": [
       "array([ 0.,  0.,  5., 13.,  9.,  1.,  0.,  0.,  0.,  0., 13., 15., 10.,\n",
       "       15.,  5.,  0.,  0.,  3., 15.,  2.,  0., 11.,  8.,  0.,  0.,  4.,\n",
       "       12.,  0.,  0.,  8.,  8.,  0.,  0.,  5.,  8.,  0.,  0.,  9.,  8.,\n",
       "        0.,  0.,  4., 11.,  0.,  1., 12.,  7.,  0.,  0.,  2., 14.,  5.,\n",
       "       10., 12.,  0.,  0.,  0.,  0.,  6., 13., 10.,  0.,  0.,  0.])"
      ]
     },
     "execution_count": 5,
     "metadata": {},
     "output_type": "execute_result"
    }
   ],
   "source": [
    "#xem thông tin của một hình dưới dạng mảng \n",
    "digits['data'][0] \n"
   ]
  },
  {
   "cell_type": "code",
   "execution_count": 6,
   "id": "f46ab52d",
   "metadata": {},
   "outputs": [
    {
     "data": {
      "text/plain": [
       "array([0, 1, 2, 3, 4, 5, 6, 7, 8])"
      ]
     },
     "execution_count": 6,
     "metadata": {},
     "output_type": "execute_result"
    }
   ],
   "source": [
    "#xem thông tin 9 nhãn đầu tiên \n",
    "digits['target'][0:9] "
   ]
  },
  {
   "cell_type": "markdown",
   "id": "0c723fb2",
   "metadata": {},
   "source": [
    "3. Vẽ ra hình dựa vào dữ liệu dạng ma trận 8 x 8"
   ]
  },
  {
   "cell_type": "code",
   "execution_count": 7,
   "id": "90b9483b",
   "metadata": {},
   "outputs": [
    {
     "data": {
      "image/png": "[encoded data removed]",
      "text/plain": [
       "<Figure size 1000x1000 with 64 Axes>"
      ]
     },
     "metadata": {},
     "output_type": "display_data"
    }
   ],
   "source": [
    "# Each Digit is represented in digits.images as a matrix of 8x8 = 64 pixels.\n",
    "# Each of the 64 values represents a greyscale. The greyscale is then plotted\n",
    "# in the right scale by the imshow method.\n",
    "fig, ax = plt.subplots(8, 8, figsize=(10, 10))\n",
    "for i, axi in enumerate(ax.flat):\n",
    "    axi.imshow(digits.images[i], cmap='binary')\n",
    "    axi.set(xticks=[], yticks=[])"
   ]
  },
  {
   "cell_type": "markdown",
   "id": "be8e84f1",
   "metadata": {},
   "source": [
    " 4. Vẽ một ảnh từ ma trận 8 x 8"
   ]
  },
  {
   "cell_type": "code",
   "execution_count": null,
   "id": "2d0c7777",
   "metadata": {},
   "outputs": [
    {
     "data": {
      "image/png": "[encoded data removed]",
      "text/plain": [
       "<Figure size 640x480 with 1 Axes>"
      ]
     },
     "metadata": {},
     "output_type": "display_data"
    }
   ],
   "source": [
    "# Hàm vẽ 1 ảnh có kích thước 8 x 8 (ảnh lấy từ ma images) \n",
    "def view_digit(index): \n",
    "    plt.imshow(digits.images[index] , cmap = plt.cm.gray_r) \n",
    "    plt.title('Orignal it is: '+ str(digits.target[index])) \n",
    "    plt.show() \n",
    "# vẽ ảnh ở index thứ 4 \n",
    "view_digit(4)"
   ]
  },
  {
   "cell_type": "markdown",
   "id": "4ed73e99",
   "metadata": {},
   "source": [
    "## Nhiệm vụ 2: Xây dựng mô hình SVM để nhận diện chữ viết tay từ 0 – 9"
   ]
  },
  {
   "cell_type": "markdown",
   "id": "005d5855",
   "metadata": {},
   "source": [
    "1. Chuẩn bị dữ liệu và xây dựng mô hình SVM"
   ]
  },
  {
   "cell_type": "code",
   "execution_count": 13,
   "id": "4b037623",
   "metadata": {},
   "outputs": [
    {
     "data": {
      "text/plain": [
       "[(7, 7),\n",
       " (4, 4),\n",
       " (6, 6),\n",
       " (3, 3),\n",
       " (1, 1),\n",
       " (3, 3),\n",
       " (9, 9),\n",
       " (1, 1),\n",
       " (7, 7),\n",
       " (6, 6),\n",
       " (8, 8),\n",
       " (4, 4),\n",
       " (3, 3),\n",
       " (1, 1),\n",
       " (4, 4),\n",
       " (0, 0),\n",
       " (5, 5),\n",
       " (3, 3),\n",
       " (6, 6),\n",
       " (9, 9),\n",
       " (6, 6),\n",
       " (1, 1),\n",
       " (7, 7),\n",
       " (5, 5),\n",
       " (4, 4),\n",
       " (4, 4),\n",
       " (7, 7),\n",
       " (2, 2),\n",
       " (8, 8),\n",
       " (2, 2),\n",
       " (2, 2),\n",
       " (5, 5),\n",
       " (7, 7),\n",
       " (9, 9),\n",
       " (5, 5),\n",
       " (4, 4),\n",
       " (8, 8),\n",
       " (8, 8),\n",
       " (4, 4),\n",
       " (9, 9),\n",
       " (0, 0),\n",
       " (8, 8),\n",
       " (9, 9),\n",
       " (8, 8),\n",
       " (0, 0),\n",
       " (1, 1),\n",
       " (2, 2),\n",
       " (3, 3),\n",
       " (4, 4),\n",
       " (5, 5),\n",
       " (6, 6),\n",
       " (7, 7),\n",
       " (1, 8),\n",
       " (9, 9),\n",
       " (0, 0),\n",
       " (1, 1),\n",
       " (2, 2),\n",
       " (3, 3),\n",
       " (4, 4),\n",
       " (5, 5),\n",
       " (6, 6),\n",
       " (9, 9),\n",
       " (0, 0),\n",
       " (1, 1),\n",
       " (2, 2),\n",
       " (3, 3),\n",
       " (4, 4),\n",
       " (5, 5),\n",
       " (6, 6),\n",
       " (7, 7),\n",
       " (1, 8),\n",
       " (9, 9),\n",
       " (4, 0),\n",
       " (9, 9),\n",
       " (5, 5),\n",
       " (5, 5),\n",
       " (6, 6),\n",
       " (5, 5),\n",
       " (0, 0),\n",
       " (9, 9),\n",
       " (8, 8),\n",
       " (9, 9),\n",
       " (8, 8),\n",
       " (4, 4),\n",
       " (1, 1),\n",
       " (7, 7),\n",
       " (7, 7),\n",
       " (3, 3),\n",
       " (5, 5),\n",
       " (1, 1),\n",
       " (0, 0),\n",
       " (0, 0),\n",
       " (2, 2),\n",
       " (2, 2),\n",
       " (7, 7),\n",
       " (8, 8),\n",
       " (2, 2),\n",
       " (0, 0),\n",
       " (1, 1),\n",
       " (2, 2),\n",
       " (6, 6),\n",
       " (8, 3),\n",
       " (3, 3),\n",
       " (7, 7),\n",
       " (3, 3),\n",
       " (3, 3),\n",
       " (4, 4),\n",
       " (6, 6),\n",
       " (6, 6),\n",
       " (6, 6),\n",
       " (9, 4),\n",
       " (9, 9),\n",
       " (1, 1),\n",
       " (5, 5),\n",
       " (0, 0),\n",
       " (9, 9),\n",
       " (5, 5),\n",
       " (2, 2),\n",
       " (8, 8),\n",
       " (0, 0),\n",
       " (1, 1),\n",
       " (7, 7),\n",
       " (6, 6),\n",
       " (3, 3),\n",
       " (2, 2),\n",
       " (1, 1),\n",
       " (7, 7),\n",
       " (9, 4),\n",
       " (6, 6),\n",
       " (3, 3),\n",
       " (1, 1),\n",
       " (3, 3),\n",
       " (9, 9),\n",
       " (1, 1),\n",
       " (7, 7),\n",
       " (6, 6),\n",
       " (8, 8),\n",
       " (4, 4),\n",
       " (3, 3),\n",
       " (1, 1),\n",
       " (4, 4),\n",
       " (0, 0),\n",
       " (5, 5),\n",
       " (3, 3),\n",
       " (6, 6),\n",
       " (9, 9),\n",
       " (6, 6),\n",
       " (1, 1),\n",
       " (7, 7),\n",
       " (5, 5),\n",
       " (4, 4),\n",
       " (4, 4),\n",
       " (7, 7),\n",
       " (2, 2),\n",
       " (2, 2),\n",
       " (5, 5),\n",
       " (7, 7),\n",
       " (8, 9),\n",
       " (5, 5),\n",
       " (9, 4),\n",
       " (4, 4),\n",
       " (5, 9),\n",
       " (0, 0),\n",
       " (8, 8),\n",
       " (9, 9),\n",
       " (8, 8),\n",
       " (0, 0),\n",
       " (1, 1),\n",
       " (2, 2),\n",
       " (3, 3),\n",
       " (4, 4),\n",
       " (5, 5),\n",
       " (6, 6),\n",
       " (7, 7),\n",
       " (8, 8),\n",
       " (9, 9),\n",
       " (0, 0),\n",
       " (1, 1),\n",
       " (2, 2),\n",
       " (3, 3),\n",
       " (4, 4),\n",
       " (5, 5),\n",
       " (6, 6),\n",
       " (7, 7),\n",
       " (8, 8),\n",
       " (9, 9),\n",
       " (0, 0),\n",
       " (1, 1),\n",
       " (2, 2),\n",
       " (8, 3),\n",
       " (4, 4),\n",
       " (5, 5),\n",
       " (6, 6),\n",
       " (7, 7),\n",
       " (8, 8),\n",
       " (9, 9),\n",
       " (0, 0),\n",
       " (9, 9),\n",
       " (5, 5),\n",
       " (5, 5),\n",
       " (6, 6),\n",
       " (5, 5),\n",
       " (0, 0),\n",
       " (9, 9),\n",
       " (8, 8),\n",
       " (9, 9),\n",
       " (8, 8),\n",
       " (4, 4),\n",
       " (1, 1),\n",
       " (7, 7),\n",
       " (7, 7),\n",
       " (3, 3),\n",
       " (5, 5),\n",
       " (1, 1),\n",
       " (0, 0),\n",
       " (0, 0),\n",
       " (2, 2),\n",
       " (2, 2),\n",
       " (7, 7),\n",
       " (8, 8),\n",
       " (2, 2),\n",
       " (0, 0),\n",
       " (1, 1),\n",
       " (2, 2),\n",
       " (6, 6),\n",
       " (8, 3),\n",
       " (8, 3),\n",
       " (7, 7),\n",
       " (5, 3),\n",
       " (3, 3),\n",
       " (4, 4),\n",
       " (6, 6),\n",
       " (6, 6),\n",
       " (6, 6),\n",
       " (4, 4),\n",
       " (9, 9),\n",
       " (1, 1),\n",
       " (5, 5),\n",
       " (0, 0),\n",
       " (9, 9),\n",
       " (5, 5),\n",
       " (2, 2),\n",
       " (8, 8),\n",
       " (2, 2),\n",
       " (0, 0),\n",
       " (0, 0),\n",
       " (1, 1),\n",
       " (7, 7),\n",
       " (6, 6),\n",
       " (3, 3),\n",
       " (2, 2),\n",
       " (1, 1),\n",
       " (7, 7),\n",
       " (4, 4),\n",
       " (6, 6),\n",
       " (3, 3),\n",
       " (1, 1),\n",
       " (3, 3),\n",
       " (9, 9),\n",
       " (1, 1),\n",
       " (7, 7),\n",
       " (6, 6),\n",
       " (8, 8),\n",
       " (4, 4),\n",
       " (5, 3),\n",
       " (1, 1),\n",
       " (4, 4),\n",
       " (0, 0),\n",
       " (5, 5),\n",
       " (3, 3),\n",
       " (6, 6),\n",
       " (9, 9),\n",
       " (6, 6),\n",
       " (1, 1),\n",
       " (7, 7),\n",
       " (5, 5),\n",
       " (4, 4),\n",
       " (4, 4),\n",
       " (7, 7),\n",
       " (2, 2),\n",
       " (8, 8),\n",
       " (2, 2),\n",
       " (2, 2),\n",
       " (5, 5),\n",
       " (7, 7),\n",
       " (9, 9),\n",
       " (5, 5),\n",
       " (4, 4),\n",
       " (8, 8),\n",
       " (8, 8),\n",
       " (4, 4),\n",
       " (9, 9),\n",
       " (0, 0),\n",
       " (8, 8),\n",
       " (9, 9),\n",
       " (8, 8)]"
      ]
     },
     "execution_count": 13,
     "metadata": {},
     "output_type": "execute_result"
    }
   ],
   "source": [
    "# Thực hiện import các thư viện cần thiết để xây dựng mô hình SVM \n",
    "# Thực hiện bước 1 của nhiệm vụ 1 \n",
    "from sklearn import svm \n",
    "main_data = digits['data'] \n",
    "targets = digits['target'] \n",
    "svc = svm.SVC(gamma=0.001 , C = 100) \n",
    "# GAMMA is a parameter for non linear hyperplanes.  \n",
    "# The higher the gamma value it tries to exactly fit the training data set \n",
    "# C is the penalty parameter of the error term.  \n",
    "# It controls the trade off between smooth decision boundary and \n",
    "# classifying the training points correctly. \n",
    "svc.fit(main_data[:1500] , targets[:1500])    \n",
    "predictions = svc.predict(main_data[1501:])   \n",
    "list(zip(predictions , targets[1501:])) "
   ]
  },
  {
   "cell_type": "markdown",
   "id": "fe8afa61",
   "metadata": {},
   "source": [
    "2. Đánh giá hiệu quả của mô hình với Confusion Matrix"
   ]
  },
  {
   "cell_type": "code",
   "execution_count": 14,
   "id": "f1088957",
   "metadata": {},
   "outputs": [
    {
     "data": {
      "image/png": "[encoded data removed]",
      "text/plain": [
       "<Figure size 800x500 with 2 Axes>"
      ]
     },
     "metadata": {},
     "output_type": "display_data"
    }
   ],
   "source": [
    "from sklearn.metrics import confusion_matrix \n",
    "import seaborn as sns \n",
    "cm = confusion_matrix(predictions, targets[1501:]) \n",
    "conf_matrix = pd.DataFrame(data = cm) \n",
    "plt.figure(figsize = (8,5)) \n",
    "sns.heatmap(conf_matrix, annot=True,fmt='d',cmap=\"YlGnBu\"); "
   ]
  },
  {
   "cell_type": "markdown",
   "id": "5e7c33b1",
   "metadata": {},
   "source": [
    "3. In kết quả dạng văn bản"
   ]
  },
  {
   "cell_type": "code",
   "execution_count": 11,
   "id": "1cbe4497",
   "metadata": {},
   "outputs": [
    {
     "name": "stdout",
     "output_type": "stream",
     "text": [
      "              precision    recall  f1-score   support\n",
      "\n",
      "           0       0.96      1.00      0.98        26\n",
      "           1       1.00      0.94      0.97        32\n",
      "           2       1.00      1.00      1.00        27\n",
      "           3       0.80      1.00      0.89        24\n",
      "           4       0.91      0.97      0.94        31\n",
      "           5       1.00      0.91      0.95        33\n",
      "           6       1.00      1.00      1.00        30\n",
      "           7       1.00      1.00      1.00        30\n",
      "           8       0.93      0.84      0.88        31\n",
      "           9       0.94      0.91      0.92        32\n",
      "\n",
      "    accuracy                           0.95       296\n",
      "   macro avg       0.95      0.96      0.95       296\n",
      "weighted avg       0.96      0.95      0.95       296\n",
      "\n"
     ]
    }
   ],
   "source": [
    "from sklearn.metrics import classification_report \n",
    "print(classification_report(predictions, targets[1501:])) "
   ]
  }
 ],
 "metadata": {
  "kernelspec": {
   "display_name": "Python 3",
   "language": "python",
   "name": "python3"
  },
  "language_info": {
   "codemirror_mode": {
    "name": "ipython",
    "version": 3
   },
   "file_extension": ".py",
   "mimetype": "text/x-python",
   "name": "python",
   "nbconvert_exporter": "python",
   "pygments_lexer": "ipython3",
   "version": "3.11.9"
  }
 },
 "nbformat": 4,
 "nbformat_minor": 5
}
