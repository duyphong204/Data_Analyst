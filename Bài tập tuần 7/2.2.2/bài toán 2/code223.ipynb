{
 "cells": [
  {
   "cell_type": "markdown",
   "id": "5b8fb440",
   "metadata": {},
   "source": [
    "# Bài tập thực hành 1: SVM — Dự đoán bệnh tiểu đường\n",
    "Dữ liệu: `2.2.3/diabetes_prediction_dataset.csv`\n"
   ]
  },
  {
   "cell_type": "markdown",
   "id": "a1c1072e",
   "metadata": {},
   "source": [
    "## Nhiệm vụ 1: Import thư viện và nạp dữ liệu"
   ]
  },
  {
   "cell_type": "code",
   "execution_count": 2,
   "id": "c24f76a1",
   "metadata": {},
   "outputs": [
    {
     "name": "stdout",
     "output_type": "stream",
     "text": [
      "Không tìm thấy file: ../2.2.3/diabetes_prediction_dataset.csv. Hãy kiểm tra đường dẫn hoặc đặt file vào thư mục phù hợp.\n"
     ]
    }
   ],
   "source": [
    "import pandas as pd\n",
    "import numpy as np\n",
    "import matplotlib.pyplot as plt\n",
    "import seaborn as sns\n",
    "\n",
    "# Đường tới dataset (tương đối so với vị trí notebook)\n",
    "DATA_PATH = '../2.2.3/diabetes_prediction_dataset.csv'\n",
    "\n",
    "# Đọc dataset\n",
    "try:\n",
    "    df = pd.read_csv(DATA_PATH)\n",
    "    print(f\"Đã nạp dữ liệu từ: {DATA_PATH}\")\n",
    "except FileNotFoundError:\n",
    "    print(f\"Không tìm thấy file: {DATA_PATH}. Hãy kiểm tra đường dẫn hoặc đặt file vào thư mục phù hợp.\")"
   ]
  },
  {
   "cell_type": "markdown",
   "id": "5f91102e",
   "metadata": {},
   "source": [
    "### Khảo sát dữ liệu cơ bản"
   ]
  },
  {
   "cell_type": "code",
   "execution_count": 5,
   "id": "77f27c44",
   "metadata": {},
   "outputs": [
    {
     "ename": "NameError",
     "evalue": "name 'df' is not defined",
     "output_type": "error",
     "traceback": [
      "\u001b[31m---------------------------------------------------------------------------\u001b[39m",
      "\u001b[31mNameError\u001b[39m                                 Traceback (most recent call last)",
      "\u001b[36mCell\u001b[39m\u001b[36m \u001b[39m\u001b[32mIn[5]\u001b[39m\u001b[32m, line 2\u001b[39m\n\u001b[32m      1\u001b[39m \u001b[38;5;66;03m# Hiển thị thông tin cơ bản\u001b[39;00m\n\u001b[32m----> \u001b[39m\u001b[32m2\u001b[39m \u001b[38;5;28mprint\u001b[39m(\u001b[33m'\u001b[39m\u001b[33mSố dòng, cột:\u001b[39m\u001b[33m'\u001b[39m, \u001b[43mdf\u001b[49m.shape)\n\u001b[32m      3\u001b[39m \u001b[38;5;28mprint\u001b[39m(\u001b[33m'\u001b[39m\u001b[38;5;130;01m\\n\u001b[39;00m\u001b[33mKiểu dữ liệu và null count:\u001b[39m\u001b[33m'\u001b[39m)\n\u001b[32m      4\u001b[39m df.info()\n",
      "\u001b[31mNameError\u001b[39m: name 'df' is not defined"
     ]
    }
   ],
   "source": [
    "# Hiển thị thông tin cơ bản\n",
    "print('Số dòng, cột:', df.shape)\n",
    "print('\\nKiểu dữ liệu và null count:')\n",
    "df.info()\n",
    "\n",
    "# 5 dòng đầu\n",
    "print('\\n5 dòng đầu:')\n",
    "df.head()"
   ]
  },
  {
   "cell_type": "markdown",
   "id": "4f26901d",
   "metadata": {},
   "source": [
    "### Trực quan hóa nhanh"
   ]
  },
  {
   "cell_type": "code",
   "execution_count": null,
   "id": "850c90a2",
   "metadata": {},
   "outputs": [],
   "source": [
    "# Biểu đồ phân bố target\n",
    "plt.figure(figsize=(6,4))\n",
    "sns.countplot(data=df, x='diabetes')\n",
    "plt.title('Phân bố bệnh nhân có/không có tiểu đường')\n",
    "plt.show()\n",
    "\n",
    "# Heatmap tương quan\n",
    "plt.figure(figsize=(10,8))\n",
    "sns.heatmap(df.corr(), annot=True, fmt='.2f', cmap='RdBu')\n",
    "plt.title('Correlation matrix')\n",
    "plt.show()"
   ]
  },
  {
   "cell_type": "markdown",
   "id": "2ce0dcc7",
   "metadata": {},
   "source": [
    "### Mô hình hóa SVM và đánh giá"
   ]
  },
  {
   "cell_type": "code",
   "execution_count": null,
   "id": "6e0f3783",
   "metadata": {},
   "outputs": [],
   "source": [
    "from sklearn.model_selection import train_test_split\n",
    "from sklearn.preprocessing import StandardScaler\n",
    "from sklearn import svm\n",
    "from sklearn.metrics import classification_report, confusion_matrix\n",
    "\n",
    "# Chuẩn bị X, y\n",
    "X = df.drop(columns=['diabetes'])\n",
    "y = df['diabetes']\n",
    "\n",
    "# Chia train/test\n",
    "X_train, X_test, y_train, y_test = train_test_split(X, y, test_size=0.2, random_state=42)\n",
    "\n",
    "# Chuẩn hóa\n",
    "scaler = StandardScaler()\n",
    "X_train_s = scaler.fit_transform(X_train)\n",
    "X_test_s = scaler.transform(X_test)\n",
    "\n",
    "# Huấn luyện SVM\n",
    "svc = svm.SVC(kernel='rbf', C=100, gamma=0.001)\n",
    "svc.fit(X_train_s, y_train)\n",
    "\n",
    "# Dự đoán\n",
    "preds = svc.predict(X_test_s)\n",
    "\n",
    "# Đánh giá\n",
    "print('Confusion Matrix:')\n",
    "print(confusion_matrix(y_test, preds))\n",
    "print('\\nClassification Report:')\n",
    "print(classification_report(y_test, preds))"
   ]
  },
  {
   "cell_type": "markdown",
   "id": "32313ef7",
   "metadata": {},
   "source": [
    "### Kết luận ngắn"
   ]
  },
  {
   "cell_type": "markdown",
   "id": "3c4ddf4c",
   "metadata": {},
   "source": [
    "- Tóm tắt kết quả huấn luyện và đánh giá.\n",
    "- Gợi ý bước tiếp: tuning hyperparameters, đánh giá cross-validation, lưu model."
   ]
  }
 ],
 "metadata": {
  "kernelspec": {
   "display_name": "Python 3",
   "language": "python",
   "name": "python3"
  },
  "language_info": {
   "codemirror_mode": {
    "name": "ipython",
    "version": 3
   },
   "file_extension": ".py",
   "mimetype": "text/x-python",
   "name": "python",
   "nbconvert_exporter": "python",
   "pygments_lexer": "ipython3",
   "version": "3.11.9"
  }
 },
 "nbformat": 4,
 "nbformat_minor": 5
}
