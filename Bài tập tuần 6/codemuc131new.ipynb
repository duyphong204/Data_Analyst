{
 "cells": [
  {
   "cell_type": "code",
   "execution_count": 1,
   "id": "ede2acce",
   "metadata": {},
   "outputs": [
    {
     "name": "stdout",
     "output_type": "stream",
     "text": [
      "{'a': 'Mozilla/5.0 (Windows NT 6.1; WOW64) AppleWebKit/535.11 (KHTML, like '\n",
      "      'Gecko) Chrome/17.0.963.78 Safari/535.11',\n",
      " 'al': 'en-US,en;q=0.8',\n",
      " 'c': 'US',\n",
      " 'cy': 'Danvers',\n",
      " 'g': 'A6qOVH',\n",
      " 'gr': 'MA',\n",
      " 'h': 'wfLQtf',\n",
      " 'hc': 1331822918,\n",
      " 'hh': '1.usa.gov',\n",
      " 'l': 'orofrog',\n",
      " 'll': [42.576698, -70.954903],\n",
      " 'nk': 1,\n",
      " 'r': 'http://www.facebook.com/l/7AQEFzjSi/1.usa.gov/wfLQtf',\n",
      " 't': 1331923247,\n",
      " 'tz': 'America/New_York',\n",
      " 'u': 'http://www.ncbi.nlm.nih.gov/pubmed/22415991'}\n"
     ]
    }
   ],
   "source": [
    "import json\n",
    "import pprint\n",
    "\n",
    "# Đọc file JSON lines (mỗi dòng là 1 object JSON)\n",
    "with open('example.txt', 'r') as f:\n",
    "    lines = f.readlines()\n",
    "\n",
    "# Lấy 1 bản ghi mẫu\n",
    "sample = json.loads(lines[0])\n",
    "\n",
    "# In dạng cây đẹp\n",
    "pprint.pprint(sample, width=80, depth=None, compact=False)"
   ]
  }
 ],
 "metadata": {
  "kernelspec": {
   "display_name": "Python 3",
   "language": "python",
   "name": "python3"
  },
  "language_info": {
   "codemirror_mode": {
    "name": "ipython",
    "version": 3
   },
   "file_extension": ".py",
   "mimetype": "text/x-python",
   "name": "python",
   "nbconvert_exporter": "python",
   "pygments_lexer": "ipython3",
   "version": "3.11.9"
  }
 },
 "nbformat": 4,
 "nbformat_minor": 5
}
