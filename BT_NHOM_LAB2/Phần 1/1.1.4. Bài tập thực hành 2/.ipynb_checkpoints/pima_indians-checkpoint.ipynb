{
  "cells": [
    {
      "cell_type": "markdown",
      "id": "ade09ed4-cf1d-4f40-9b99-9a0d86404a66",
      "metadata": {
        "id": "ade09ed4-cf1d-4f40-9b99-9a0d86404a66"
      },
      "source": [
        "# THỐNG KÊ MÔ TẢ TẬP DỮ LIỆU BỆNH TIỂU ĐƯỜNG\n",
        "\n",
        "## Giới thiệu\n",
        "Tập dữ liệu **Pima Indians Diabetes** được lấy từ [Kaggle](https://www.kaggle.com/code/vincentlugat/pima-indians-diabetes-eda-prediction-0-906).  \n",
        "Dữ liệu chứa thông tin y tế của phụ nữ Pima Indian trên 21 tuổi, với mục tiêu dự đoán xem họ **có mắc bệnh tiểu đường hay không** (`Outcome`: 1 = Có, 0 = Không).\n",
        "\n",
        "---\n",
        "\n",
        "## Mục lục\n",
        "1. Nạp dữ liệu  \n",
        "2. Khám phá thông tin tổng quát  \n",
        "3. Thống kê mô tả  \n",
        "4. Kiểm tra dữ liệu thiếu và giá trị bất thường  \n",
        "5. Trực quan hóa dữ liệu  \n",
        "6. Kết luận  \n",
        "\n",
        "---\n"
      ]
    },
    {
      "cell_type": "markdown",
      "source": [
        "## 1️.Nạp dữ liệu\n"
      ],
      "metadata": {
        "id": "EGL5GXw6e_ht"
      },
      "id": "EGL5GXw6e_ht"
    },
    {
      "cell_type": "code",
      "execution_count": 2,
      "id": "5d370a8f-790f-4f51-b362-28d245d6e85a",
      "metadata": {
        "colab": {
          "base_uri": "https://localhost:8080/",
          "height": 391
        },
        "id": "5d370a8f-790f-4f51-b362-28d245d6e85a",
        "outputId": "f75ec89b-d1d8-438d-e959-749bd4601bb6"
      },
      "outputs": [
        {
          "output_type": "error",
          "ename": "FileNotFoundError",
          "evalue": "[Errno 2] No such file or directory: 'diabetes.csv'",
          "traceback": [
            "\u001b[0;31m---------------------------------------------------------------------------\u001b[0m",
            "\u001b[0;31mFileNotFoundError\u001b[0m                         Traceback (most recent call last)",
            "\u001b[0;32m/tmp/ipython-input-891037342.py\u001b[0m in \u001b[0;36m<cell line: 0>\u001b[0;34m()\u001b[0m\n\u001b[1;32m      5\u001b[0m \u001b[0;34m\u001b[0m\u001b[0m\n\u001b[1;32m      6\u001b[0m \u001b[0;31m# Đọc dữ liệu CSV (đặt đúng đường dẫn file)\u001b[0m\u001b[0;34m\u001b[0m\u001b[0;34m\u001b[0m\u001b[0m\n\u001b[0;32m----> 7\u001b[0;31m \u001b[0mdiabetes\u001b[0m \u001b[0;34m=\u001b[0m \u001b[0mpd\u001b[0m\u001b[0;34m.\u001b[0m\u001b[0mread_csv\u001b[0m\u001b[0;34m(\u001b[0m\u001b[0;34m\"diabetes.csv\"\u001b[0m\u001b[0;34m)\u001b[0m\u001b[0;34m\u001b[0m\u001b[0;34m\u001b[0m\u001b[0m\n\u001b[0m\u001b[1;32m      8\u001b[0m \u001b[0;34m\u001b[0m\u001b[0m\n\u001b[1;32m      9\u001b[0m \u001b[0;31m# Hiển thị 5 dòng đầu tiên\u001b[0m\u001b[0;34m\u001b[0m\u001b[0;34m\u001b[0m\u001b[0m\n",
            "\u001b[0;32m/usr/local/lib/python3.12/dist-packages/pandas/io/parsers/readers.py\u001b[0m in \u001b[0;36mread_csv\u001b[0;34m(filepath_or_buffer, sep, delimiter, header, names, index_col, usecols, dtype, engine, converters, true_values, false_values, skipinitialspace, skiprows, skipfooter, nrows, na_values, keep_default_na, na_filter, verbose, skip_blank_lines, parse_dates, infer_datetime_format, keep_date_col, date_parser, date_format, dayfirst, cache_dates, iterator, chunksize, compression, thousands, decimal, lineterminator, quotechar, quoting, doublequote, escapechar, comment, encoding, encoding_errors, dialect, on_bad_lines, delim_whitespace, low_memory, memory_map, float_precision, storage_options, dtype_backend)\u001b[0m\n\u001b[1;32m   1024\u001b[0m     \u001b[0mkwds\u001b[0m\u001b[0;34m.\u001b[0m\u001b[0mupdate\u001b[0m\u001b[0;34m(\u001b[0m\u001b[0mkwds_defaults\u001b[0m\u001b[0;34m)\u001b[0m\u001b[0;34m\u001b[0m\u001b[0;34m\u001b[0m\u001b[0m\n\u001b[1;32m   1025\u001b[0m \u001b[0;34m\u001b[0m\u001b[0m\n\u001b[0;32m-> 1026\u001b[0;31m     \u001b[0;32mreturn\u001b[0m \u001b[0m_read\u001b[0m\u001b[0;34m(\u001b[0m\u001b[0mfilepath_or_buffer\u001b[0m\u001b[0;34m,\u001b[0m \u001b[0mkwds\u001b[0m\u001b[0;34m)\u001b[0m\u001b[0;34m\u001b[0m\u001b[0;34m\u001b[0m\u001b[0m\n\u001b[0m\u001b[1;32m   1027\u001b[0m \u001b[0;34m\u001b[0m\u001b[0m\n\u001b[1;32m   1028\u001b[0m \u001b[0;34m\u001b[0m\u001b[0m\n",
            "\u001b[0;32m/usr/local/lib/python3.12/dist-packages/pandas/io/parsers/readers.py\u001b[0m in \u001b[0;36m_read\u001b[0;34m(filepath_or_buffer, kwds)\u001b[0m\n\u001b[1;32m    618\u001b[0m \u001b[0;34m\u001b[0m\u001b[0m\n\u001b[1;32m    619\u001b[0m     \u001b[0;31m# Create the parser.\u001b[0m\u001b[0;34m\u001b[0m\u001b[0;34m\u001b[0m\u001b[0m\n\u001b[0;32m--> 620\u001b[0;31m     \u001b[0mparser\u001b[0m \u001b[0;34m=\u001b[0m \u001b[0mTextFileReader\u001b[0m\u001b[0;34m(\u001b[0m\u001b[0mfilepath_or_buffer\u001b[0m\u001b[0;34m,\u001b[0m \u001b[0;34m**\u001b[0m\u001b[0mkwds\u001b[0m\u001b[0;34m)\u001b[0m\u001b[0;34m\u001b[0m\u001b[0;34m\u001b[0m\u001b[0m\n\u001b[0m\u001b[1;32m    621\u001b[0m \u001b[0;34m\u001b[0m\u001b[0m\n\u001b[1;32m    622\u001b[0m     \u001b[0;32mif\u001b[0m \u001b[0mchunksize\u001b[0m \u001b[0;32mor\u001b[0m \u001b[0miterator\u001b[0m\u001b[0;34m:\u001b[0m\u001b[0;34m\u001b[0m\u001b[0;34m\u001b[0m\u001b[0m\n",
            "\u001b[0;32m/usr/local/lib/python3.12/dist-packages/pandas/io/parsers/readers.py\u001b[0m in \u001b[0;36m__init__\u001b[0;34m(self, f, engine, **kwds)\u001b[0m\n\u001b[1;32m   1618\u001b[0m \u001b[0;34m\u001b[0m\u001b[0m\n\u001b[1;32m   1619\u001b[0m         \u001b[0mself\u001b[0m\u001b[0;34m.\u001b[0m\u001b[0mhandles\u001b[0m\u001b[0;34m:\u001b[0m \u001b[0mIOHandles\u001b[0m \u001b[0;34m|\u001b[0m \u001b[0;32mNone\u001b[0m \u001b[0;34m=\u001b[0m \u001b[0;32mNone\u001b[0m\u001b[0;34m\u001b[0m\u001b[0;34m\u001b[0m\u001b[0m\n\u001b[0;32m-> 1620\u001b[0;31m         \u001b[0mself\u001b[0m\u001b[0;34m.\u001b[0m\u001b[0m_engine\u001b[0m \u001b[0;34m=\u001b[0m \u001b[0mself\u001b[0m\u001b[0;34m.\u001b[0m\u001b[0m_make_engine\u001b[0m\u001b[0;34m(\u001b[0m\u001b[0mf\u001b[0m\u001b[0;34m,\u001b[0m \u001b[0mself\u001b[0m\u001b[0;34m.\u001b[0m\u001b[0mengine\u001b[0m\u001b[0;34m)\u001b[0m\u001b[0;34m\u001b[0m\u001b[0;34m\u001b[0m\u001b[0m\n\u001b[0m\u001b[1;32m   1621\u001b[0m \u001b[0;34m\u001b[0m\u001b[0m\n\u001b[1;32m   1622\u001b[0m     \u001b[0;32mdef\u001b[0m \u001b[0mclose\u001b[0m\u001b[0;34m(\u001b[0m\u001b[0mself\u001b[0m\u001b[0;34m)\u001b[0m \u001b[0;34m->\u001b[0m \u001b[0;32mNone\u001b[0m\u001b[0;34m:\u001b[0m\u001b[0;34m\u001b[0m\u001b[0;34m\u001b[0m\u001b[0m\n",
            "\u001b[0;32m/usr/local/lib/python3.12/dist-packages/pandas/io/parsers/readers.py\u001b[0m in \u001b[0;36m_make_engine\u001b[0;34m(self, f, engine)\u001b[0m\n\u001b[1;32m   1878\u001b[0m                 \u001b[0;32mif\u001b[0m \u001b[0;34m\"b\"\u001b[0m \u001b[0;32mnot\u001b[0m \u001b[0;32min\u001b[0m \u001b[0mmode\u001b[0m\u001b[0;34m:\u001b[0m\u001b[0;34m\u001b[0m\u001b[0;34m\u001b[0m\u001b[0m\n\u001b[1;32m   1879\u001b[0m                     \u001b[0mmode\u001b[0m \u001b[0;34m+=\u001b[0m \u001b[0;34m\"b\"\u001b[0m\u001b[0;34m\u001b[0m\u001b[0;34m\u001b[0m\u001b[0m\n\u001b[0;32m-> 1880\u001b[0;31m             self.handles = get_handle(\n\u001b[0m\u001b[1;32m   1881\u001b[0m                 \u001b[0mf\u001b[0m\u001b[0;34m,\u001b[0m\u001b[0;34m\u001b[0m\u001b[0;34m\u001b[0m\u001b[0m\n\u001b[1;32m   1882\u001b[0m                 \u001b[0mmode\u001b[0m\u001b[0;34m,\u001b[0m\u001b[0;34m\u001b[0m\u001b[0;34m\u001b[0m\u001b[0m\n",
            "\u001b[0;32m/usr/local/lib/python3.12/dist-packages/pandas/io/common.py\u001b[0m in \u001b[0;36mget_handle\u001b[0;34m(path_or_buf, mode, encoding, compression, memory_map, is_text, errors, storage_options)\u001b[0m\n\u001b[1;32m    871\u001b[0m         \u001b[0;32mif\u001b[0m \u001b[0mioargs\u001b[0m\u001b[0;34m.\u001b[0m\u001b[0mencoding\u001b[0m \u001b[0;32mand\u001b[0m \u001b[0;34m\"b\"\u001b[0m \u001b[0;32mnot\u001b[0m \u001b[0;32min\u001b[0m \u001b[0mioargs\u001b[0m\u001b[0;34m.\u001b[0m\u001b[0mmode\u001b[0m\u001b[0;34m:\u001b[0m\u001b[0;34m\u001b[0m\u001b[0;34m\u001b[0m\u001b[0m\n\u001b[1;32m    872\u001b[0m             \u001b[0;31m# Encoding\u001b[0m\u001b[0;34m\u001b[0m\u001b[0;34m\u001b[0m\u001b[0m\n\u001b[0;32m--> 873\u001b[0;31m             handle = open(\n\u001b[0m\u001b[1;32m    874\u001b[0m                 \u001b[0mhandle\u001b[0m\u001b[0;34m,\u001b[0m\u001b[0;34m\u001b[0m\u001b[0;34m\u001b[0m\u001b[0m\n\u001b[1;32m    875\u001b[0m                 \u001b[0mioargs\u001b[0m\u001b[0;34m.\u001b[0m\u001b[0mmode\u001b[0m\u001b[0;34m,\u001b[0m\u001b[0;34m\u001b[0m\u001b[0;34m\u001b[0m\u001b[0m\n",
            "\u001b[0;31mFileNotFoundError\u001b[0m: [Errno 2] No such file or directory: 'diabetes.csv'"
          ]
        }
      ],
      "source": [
        "\n",
        "import pandas as pd\n",
        "import matplotlib.pyplot as plt\n",
        "import seaborn as sns\n",
        "\n",
        "# Đọc dữ liệu CSV (đặt đúng đường dẫn file)\n",
        "diabetes = pd.read_csv(\"diabetes.csv\")\n",
        "\n",
        "# Hiển thị 5 dòng đầu tiên\n",
        "diabetes.head()\n"
      ]
    },
    {
      "cell_type": "markdown",
      "id": "ba0facee-8b6a-4457-b90a-839d5e776c06",
      "metadata": {
        "id": "ba0facee-8b6a-4457-b90a-839d5e776c06"
      },
      "source": [
        "## 2.Thông tin tổng quát về dữ liệu\n"
      ]
    },
    {
      "cell_type": "code",
      "execution_count": null,
      "id": "254d2e52-a1b4-4c3c-bddd-2bb66e0f6d94",
      "metadata": {
        "id": "254d2e52-a1b4-4c3c-bddd-2bb66e0f6d94"
      },
      "outputs": [],
      "source": [
        "# Kích thước, kiểu dữ liệu\n",
        "print(\"Kích thước dữ liệu:\", diabetes.shape)\n",
        "diabetes.info()\n"
      ]
    },
    {
      "cell_type": "markdown",
      "id": "a9f79d5f-a6c3-4b62-a216-6f2327dd2ac4",
      "metadata": {
        "id": "a9f79d5f-a6c3-4b62-a216-6f2327dd2ac4"
      },
      "source": [
        "**Nhận xét:**\n",
        "- Tập dữ liệu gồm **768 dòng và 9 cột**.\n",
        "- Tất cả các thuộc tính đều là dạng số (`int64`, `float64`), thuận tiện cho mô hình hóa.\n",
        "- Cột **Outcome** là biến mục tiêu (0: Không bị, 1: Bị tiểu đường).\n"
      ]
    },
    {
      "cell_type": "markdown",
      "id": "9580421e-72c1-441a-9c15-cf35ae8f78ec",
      "metadata": {
        "id": "9580421e-72c1-441a-9c15-cf35ae8f78ec"
      },
      "source": [
        "## 3.Thống kê mô tả\n"
      ]
    },
    {
      "cell_type": "code",
      "execution_count": null,
      "id": "540ff6f3-4fc9-4110-aba7-f33b13ef9448",
      "metadata": {
        "id": "540ff6f3-4fc9-4110-aba7-f33b13ef9448"
      },
      "outputs": [],
      "source": [
        "# Thống kê mô tả các cột số\n",
        "diabetes.describe().T\n"
      ]
    },
    {
      "cell_type": "markdown",
      "id": "26c3bd84-fec4-4200-b3f8-4f430b8eb67a",
      "metadata": {
        "id": "26c3bd84-fec4-4200-b3f8-4f430b8eb67a"
      },
      "source": [
        "**Nhận xét:**\n",
        "- Một số cột có giá trị `0` không hợp lý như `Glucose`, `BloodPressure`, `BMI` (vì không thể bằng 0 trong thực tế).\n",
        "- Giá trị trung bình của `Glucose` khoảng 120, cao hơn mức bình thường → mẫu dữ liệu có xu hướng thiên về nhóm bệnh nhân tiểu đường.\n"
      ]
    },
    {
      "cell_type": "markdown",
      "id": "1f6cc896-fc35-46d2-b8b1-6f7f94c44ff9",
      "metadata": {
        "id": "1f6cc896-fc35-46d2-b8b1-6f7f94c44ff9"
      },
      "source": [
        "## 4.Kiểm tra dữ liệu thiếu và giá trị bất thường\n"
      ]
    },
    {
      "cell_type": "code",
      "execution_count": null,
      "id": "b4e1e794-2893-478d-bb43-c99f491f6b97",
      "metadata": {
        "id": "b4e1e794-2893-478d-bb43-c99f491f6b97"
      },
      "outputs": [],
      "source": [
        "# Kiểm tra giá trị thiếu\n",
        "print(\"🔹 Số giá trị thiếu mỗi cột:\")\n",
        "print(diabetes.isnull().sum())\n",
        "\n",
        "# Kiểm tra giá trị 0 ở các cột quan trọng\n",
        "cols = [\"Glucose\", \"BloodPressure\", \"SkinThickness\", \"Insulin\", \"BMI\"]\n",
        "for col in cols:\n",
        "    zero_count = (diabetes[col] == 0).sum()\n",
        "    print(f\"{col}: {zero_count} giá trị 0\")\n"
      ]
    },
    {
      "cell_type": "markdown",
      "id": "3c149531-22fb-4270-821a-a25a3f66f32a",
      "metadata": {
        "id": "3c149531-22fb-4270-821a-a25a3f66f32a"
      },
      "source": [
        "**Nhận xét:**\n",
        "- Không có giá trị thiếu dạng `NaN`.\n",
        "- Tuy nhiên, có nhiều giá trị **0 bất hợp lý** trong `Glucose`, `BloodPressure`, `BMI`, `SkinThickness`, `Insulin`.  \n",
        "->> Cần **xử lý thay thế hoặc nội suy** trong giai đoạn tiền xử lý sau này.\n"
      ]
    },
    {
      "cell_type": "code",
      "execution_count": null,
      "id": "2c369f0f-2b6c-4d2a-bb3f-d629ed09ba26",
      "metadata": {
        "id": "2c369f0f-2b6c-4d2a-bb3f-d629ed09ba26"
      },
      "outputs": [],
      "source": [
        "import matplotlib.pyplot as plt\n",
        "import seaborn as sns\n",
        "\n",
        "plt.figure(figsize=(6,4))\n",
        "\n",
        "# Sửa lỗi: Thêm hue='Outcome' và legend=False\n",
        "sns.countplot(x='Outcome', data=diabetes, hue='Outcome', palette='Set2', legend=False)\n",
        "\n",
        "plt.title('Phân bố bệnh tiểu đường')\n",
        "plt.xlabel('Outcome (0 = Không, 1 = Có)')\n",
        "plt.ylabel('Số lượng')\n",
        "plt.show()"
      ]
    },
    {
      "cell_type": "markdown",
      "source": [
        "**Nhận xét:**\n",
        "- Dữ liệu **mất cân bằng nhẹ**: Số người không bị bệnh (0) nhiều hơn số người bị (1).\n"
      ],
      "metadata": {
        "id": "g7H8SSoLeBnS"
      },
      "id": "g7H8SSoLeBnS"
    },
    {
      "cell_type": "markdown",
      "id": "6fa9cee8-4a28-4b81-9eae-efbf30002941",
      "metadata": {
        "id": "6fa9cee8-4a28-4b81-9eae-efbf30002941"
      },
      "source": [
        "## 5.Trực quan hóa dữ liệu\n"
      ]
    },
    {
      "cell_type": "markdown",
      "source": [
        "### 5.1. Phân bố biến mục tiêu (Outcome)"
      ],
      "metadata": {
        "id": "FPOPBLMNd5LH"
      },
      "id": "FPOPBLMNd5LH"
    },
    {
      "cell_type": "markdown",
      "id": "6a5abeab-0e0c-4e05-afed-d81fcbca1432",
      "metadata": {
        "id": "6a5abeab-0e0c-4e05-afed-d81fcbca1432"
      },
      "source": []
    },
    {
      "cell_type": "code",
      "source": [
        "import matplotlib.pyplot as plt\n",
        "import seaborn as sns\n",
        "\n",
        "plt.figure(figsize=(6,4))\n",
        "\n",
        "# Sửa lỗi: Thêm hue='Outcome' và legend=False\n",
        "sns.countplot(x='Outcome', data=diabetes, hue='Outcome', palette='Set2', legend=False)\n",
        "\n",
        "plt.title('Phân bố bệnh tiểu đường')\n",
        "plt.xlabel('Outcome (0 = Không, 1 = Có)')\n",
        "plt.ylabel('Số lượng')\n",
        "plt.show()"
      ],
      "metadata": {
        "colab": {
          "base_uri": "https://localhost:8080/",
          "height": 245
        },
        "id": "pj0CEuTjeeYi",
        "outputId": "4590835c-f7f6-4d36-e612-bf31405916f5"
      },
      "id": "pj0CEuTjeeYi",
      "execution_count": 3,
      "outputs": [
        {
          "output_type": "error",
          "ename": "NameError",
          "evalue": "name 'diabetes' is not defined",
          "traceback": [
            "\u001b[0;31m---------------------------------------------------------------------------\u001b[0m",
            "\u001b[0;31mNameError\u001b[0m                                 Traceback (most recent call last)",
            "\u001b[0;32m/tmp/ipython-input-2346973917.py\u001b[0m in \u001b[0;36m<cell line: 0>\u001b[0;34m()\u001b[0m\n\u001b[1;32m      5\u001b[0m \u001b[0;34m\u001b[0m\u001b[0m\n\u001b[1;32m      6\u001b[0m \u001b[0;31m# Sửa lỗi: Thêm hue='Outcome' và legend=False\u001b[0m\u001b[0;34m\u001b[0m\u001b[0;34m\u001b[0m\u001b[0m\n\u001b[0;32m----> 7\u001b[0;31m \u001b[0msns\u001b[0m\u001b[0;34m.\u001b[0m\u001b[0mcountplot\u001b[0m\u001b[0;34m(\u001b[0m\u001b[0mx\u001b[0m\u001b[0;34m=\u001b[0m\u001b[0;34m'Outcome'\u001b[0m\u001b[0;34m,\u001b[0m \u001b[0mdata\u001b[0m\u001b[0;34m=\u001b[0m\u001b[0mdiabetes\u001b[0m\u001b[0;34m,\u001b[0m \u001b[0mhue\u001b[0m\u001b[0;34m=\u001b[0m\u001b[0;34m'Outcome'\u001b[0m\u001b[0;34m,\u001b[0m \u001b[0mpalette\u001b[0m\u001b[0;34m=\u001b[0m\u001b[0;34m'Set2'\u001b[0m\u001b[0;34m,\u001b[0m \u001b[0mlegend\u001b[0m\u001b[0;34m=\u001b[0m\u001b[0;32mFalse\u001b[0m\u001b[0;34m)\u001b[0m\u001b[0;34m\u001b[0m\u001b[0;34m\u001b[0m\u001b[0m\n\u001b[0m\u001b[1;32m      8\u001b[0m \u001b[0;34m\u001b[0m\u001b[0m\n\u001b[1;32m      9\u001b[0m \u001b[0mplt\u001b[0m\u001b[0;34m.\u001b[0m\u001b[0mtitle\u001b[0m\u001b[0;34m(\u001b[0m\u001b[0;34m'Phân bố bệnh tiểu đường'\u001b[0m\u001b[0;34m)\u001b[0m\u001b[0;34m\u001b[0m\u001b[0;34m\u001b[0m\u001b[0m\n",
            "\u001b[0;31mNameError\u001b[0m: name 'diabetes' is not defined"
          ]
        },
        {
          "output_type": "display_data",
          "data": {
            "text/plain": [
              "<Figure size 600x400 with 0 Axes>"
            ]
          },
          "metadata": {}
        }
      ]
    },
    {
      "cell_type": "markdown",
      "id": "3ca4d9aa-4d00-4a2f-b669-a03ba9292984",
      "metadata": {
        "id": "3ca4d9aa-4d00-4a2f-b669-a03ba9292984"
      },
      "source": [
        "### 5.2. Phân bố các đặc trưng chính\n"
      ]
    },
    {
      "cell_type": "code",
      "execution_count": null,
      "id": "6dd828c1-c528-4c47-937a-0054e4ca2776",
      "metadata": {
        "id": "6dd828c1-c528-4c47-937a-0054e4ca2776"
      },
      "outputs": [],
      "source": [
        "diabetes.hist(figsize=(12,10), bins=20, color='#3CB371')\n",
        "plt.suptitle('Phân bố các đặc trưng trong tập dữ liệu', fontsize=14)\n",
        "plt.show()\n"
      ]
    },
    {
      "cell_type": "markdown",
      "id": "447c423f-8694-47ed-9bfa-ff1dca662369",
      "metadata": {
        "id": "447c423f-8694-47ed-9bfa-ff1dca662369"
      },
      "source": [
        "Nhận xét phân bố các đặc trưng trong tập dữ liệu tiểu đường\n",
        "\n",
        "Các biểu đồ histogram cho thấy hình thái phân bố của từng biến. Việc hiểu rõ sự phân bố là bước quan trọng để xác định phương pháp tiền xử lý dữ liệu phù hợp trước khi huấn luyện mô hình.\n",
        "\n",
        "1. Các biến có dạng phân bố chuẩn hoặc gần chuẩn\n",
        "Các biến này có hình chuông và ít bị lệch, phù hợp để sử dụng trực tiếp hoặc sau khi chuẩn hóa đơn giản (Standardization):\n",
        "- Glucose (Đường huyết): Phân bố gần chuẩn, tập trung chủ yếu quanh mức 100-125.\n",
        "- BloodPressure (Huyết áp): Phân bố gần chuẩn, tập trung mạnh quanh mức 70-80.\n",
        "- BMI (Chỉ số khối cơ thể): Phân bố gần chuẩn, tập trung chủ yếu quanh mức 30-35.\n",
        "\n",
        "2. Các biến bị lệch phải (Right-Skewed)\n",
        "Các biến này có đuôi kéo dài về phía giá trị lớn hơn và có nhiều giá trị bằng 0 hoặc rất nhỏ. Các biến này cần được xử lý (như biến đổi logarit) để giảm độ lệch trước khi đưa vào mô hình:\n",
        "- Pregnancies (Số lần mang thai): Bị lệch phải, nhiều phụ nữ có số lần mang thai nhỏ.\n",
        "- Insulin: Bị lệch phải rất mạnh, đa số các giá trị tập trung ở mức gần 0, nhưng có một đuôi dài về phía các giá trị insulin rất cao.\n",
        "- SkinThickness (Độ dày da): Bị lệch phải, với nhiều giá trị ở mức thấp, có thể có giá trị 0 không hợp lý (cần kiểm tra).\n",
        "- DiabetesPedigreeFunction: Bị lệch phải, cho thấy đa số bệnh nhân có điểm chức năng phả hệ thấp.\n",
        "- Age (Tuổi): Bị lệch phải nhẹ, tập trung chủ yếu ở độ tuổi trẻ hơn (20-30).\n",
        "\n",
        "3. Biến mục tiêu (Outcome)\n",
        "Outcome (Kết quả) là biến nhị phân, cho thấy dữ liệu bị mất cân bằng.\n",
        "- 0 (Không mắc bệnh): Chiếm số lượng lớn hơn nhiều (gần 500 mẫu).\n",
        "- 1 (Mắc bệnh): Chiếm số lượng ít hơn (khoảng 250-300 mẫu).\n",
        "Kết luận: Cần áp dụng kỹ thuật xử lý dữ liệu mất cân bằng (như SMOTE hoặc điều chỉnh trọng số lớp) trong quá trình huấn luyện mô hình.\n"
      ]
    },
    {
      "cell_type": "markdown",
      "id": "4ac7a6a3-d9e6-48b6-a2f9-daeaeeff404a",
      "metadata": {
        "id": "4ac7a6a3-d9e6-48b6-a2f9-daeaeeff404a"
      },
      "source": [
        "### 5.3.Ma trận tương quan giữa các đặc trưng\n"
      ]
    },
    {
      "cell_type": "code",
      "execution_count": 4,
      "id": "34ef74d0-03ac-41af-a5a0-88f43fff5893",
      "metadata": {
        "colab": {
          "base_uri": "https://localhost:8080/",
          "height": 211
        },
        "id": "34ef74d0-03ac-41af-a5a0-88f43fff5893",
        "outputId": "edb979a9-41ad-418c-aaee-829f57a14f28"
      },
      "outputs": [
        {
          "output_type": "error",
          "ename": "NameError",
          "evalue": "name 'diabetes' is not defined",
          "traceback": [
            "\u001b[0;31m---------------------------------------------------------------------------\u001b[0m",
            "\u001b[0;31mNameError\u001b[0m                                 Traceback (most recent call last)",
            "\u001b[0;32m/tmp/ipython-input-3662355684.py\u001b[0m in \u001b[0;36m<cell line: 0>\u001b[0;34m()\u001b[0m\n\u001b[1;32m      1\u001b[0m \u001b[0mplt\u001b[0m\u001b[0;34m.\u001b[0m\u001b[0mfigure\u001b[0m\u001b[0;34m(\u001b[0m\u001b[0mfigsize\u001b[0m\u001b[0;34m=\u001b[0m\u001b[0;34m(\u001b[0m\u001b[0;36m10\u001b[0m\u001b[0;34m,\u001b[0m\u001b[0;36m8\u001b[0m\u001b[0;34m)\u001b[0m\u001b[0;34m)\u001b[0m\u001b[0;34m\u001b[0m\u001b[0;34m\u001b[0m\u001b[0m\n\u001b[0;32m----> 2\u001b[0;31m \u001b[0msns\u001b[0m\u001b[0;34m.\u001b[0m\u001b[0mheatmap\u001b[0m\u001b[0;34m(\u001b[0m\u001b[0mdiabetes\u001b[0m\u001b[0;34m.\u001b[0m\u001b[0mcorr\u001b[0m\u001b[0;34m(\u001b[0m\u001b[0;34m)\u001b[0m\u001b[0;34m,\u001b[0m \u001b[0mannot\u001b[0m\u001b[0;34m=\u001b[0m\u001b[0;32mTrue\u001b[0m\u001b[0;34m,\u001b[0m \u001b[0mcmap\u001b[0m\u001b[0;34m=\u001b[0m\u001b[0;34m'YlOrRd'\u001b[0m\u001b[0;34m,\u001b[0m \u001b[0mfmt\u001b[0m\u001b[0;34m=\u001b[0m\u001b[0;34m\".2f\"\u001b[0m\u001b[0;34m)\u001b[0m\u001b[0;34m\u001b[0m\u001b[0;34m\u001b[0m\u001b[0m\n\u001b[0m\u001b[1;32m      3\u001b[0m \u001b[0mplt\u001b[0m\u001b[0;34m.\u001b[0m\u001b[0mtitle\u001b[0m\u001b[0;34m(\u001b[0m\u001b[0;34m\"Ma trận tương quan giữa các biến\"\u001b[0m\u001b[0;34m)\u001b[0m\u001b[0;34m\u001b[0m\u001b[0;34m\u001b[0m\u001b[0m\n\u001b[1;32m      4\u001b[0m \u001b[0mplt\u001b[0m\u001b[0;34m.\u001b[0m\u001b[0mshow\u001b[0m\u001b[0;34m(\u001b[0m\u001b[0;34m)\u001b[0m\u001b[0;34m\u001b[0m\u001b[0;34m\u001b[0m\u001b[0m\n",
            "\u001b[0;31mNameError\u001b[0m: name 'diabetes' is not defined"
          ]
        },
        {
          "output_type": "display_data",
          "data": {
            "text/plain": [
              "<Figure size 1000x800 with 0 Axes>"
            ]
          },
          "metadata": {}
        }
      ],
      "source": [
        "plt.figure(figsize=(10,8))\n",
        "sns.heatmap(diabetes.corr(), annot=True, cmap='YlOrRd', fmt=\".2f\")\n",
        "plt.title(\"Ma trận tương quan giữa các biến\")\n",
        "plt.show()\n"
      ]
    },
    {
      "cell_type": "markdown",
      "id": "3563a297-23b4-4cab-b3bd-c1846a88bd66",
      "metadata": {
        "id": "3563a297-23b4-4cab-b3bd-c1846a88bd66"
      },
      "source": [
        "Đánh giá nhận xét ma trận tương quan\n",
        "\n",
        "Các nhận xét kèm theo biểu đồ là chính xác và hợp lý.\n",
        "\n",
        "1. Mối quan hệ chủ đạo với bệnh (Outcome)\n",
        "- Glucose (0.47): Có tương quan dương mạnh nhất với Outcome (nguy cơ mắc bệnh).\n",
        "  Ý nghĩa: Đây là kết quả sinh học quan trọng nhất – đường huyết càng cao thì khả năng mắc bệnh tiểu đường càng cao.\n",
        "- BMI (0.29), Age (0.24), DiabetesPedigreeFunction (0.17): Đều có tương quan dương với Outcome.\n",
        "  Ý nghĩa: Các yếu tố về cân nặng, tuổi tác và tiền sử gia đình đều là những yếu tố nguy cơ quan trọng, đứng sau chỉ số đường huyết.\n",
        "\n",
        "2. Mối quan hệ giữa các đặc trưng độc lập\n",
        "- Pregnancies và Age (0.54): Có tương quan dương mạnh nhất giữa các biến độc lập.\n",
        "  Ý nghĩa: Số lần mang thai có mối liên hệ mật thiết với tuổi tác, cho thấy chúng có thể đo lường cùng một khía cạnh.\n",
        "- SkinThickness và BMI (0.44), SkinThickness và Insulin (0.44): Có tương quan dương mạnh.\n",
        "  Ý nghĩa: Độ dày da, chỉ số khối cơ thể và mức insulin có liên hệ chặt chẽ với nhau, phản ánh mức độ béo phì và sức khỏe trao đổi chất.\n"
      ]
    },
    {
      "cell_type": "markdown",
      "id": "aafbc7a2-3e95-496b-9aeb-097f8373533e",
      "metadata": {
        "id": "aafbc7a2-3e95-496b-9aeb-097f8373533e"
      },
      "source": [
        "## 6.Kết luận\n",
        "\n",
        "- Tập dữ liệu **Pima Indians Diabetes** gồm 768 mẫu, 8 đặc trưng đầu vào và 1 biến nhãn (`Outcome`).  \n",
        "- Không có dữ liệu thiếu, nhưng có nhiều giá trị **0 không hợp lệ** cần xử lý trước khi huấn luyện mô hình.  \n",
        "- Các đặc trưng có ảnh hưởng lớn đến kết quả bệnh gồm:\n",
        "- `Glucose` (đường huyết)\n",
        "- `BMI` (chỉ số khối cơ thể)\n",
        "- `Age` (tuổi)\n",
        "- `DiabetesPedigreeFunction` (yếu tố di truyền)\n",
        "\n",
        "->> Dữ liệu đã sẵn sàng cho **bước tiền xử lý và phân loại bằng mô hình học máy** ở nhiệm vụ tiếp theo.\n"
      ]
    },
    {
      "cell_type": "code",
      "execution_count": null,
      "id": "bb772966-30c0-41b3-8f3f-18fe571fd11b",
      "metadata": {
        "id": "bb772966-30c0-41b3-8f3f-18fe571fd11b"
      },
      "outputs": [],
      "source": []
    }
  ],
  "metadata": {
    "kernelspec": {
      "display_name": "Python 3 (ipykernel)",
      "language": "python",
      "name": "python3"
    },
    "language_info": {
      "codemirror_mode": {
        "name": "ipython",
        "version": 3
      },
      "file_extension": ".py",
      "mimetype": "text/x-python",
      "name": "python",
      "nbconvert_exporter": "python",
      "pygments_lexer": "ipython3",
      "version": "3.13.5"
    },
    "colab": {
      "provenance": [],
      "toc_visible": true
    }
  },
  "nbformat": 4,
  "nbformat_minor": 5
}